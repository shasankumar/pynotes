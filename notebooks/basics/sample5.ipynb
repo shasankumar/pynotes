{
 "cells": [
  {
   "cell_type": "code",
   "execution_count": 1,
   "id": "4be90b20-33b1-413f-8482-5a3084b56b79",
   "metadata": {},
   "outputs": [],
   "source": [
    "lst =[23,18,2,25,12,33]"
   ]
  },
  {
   "cell_type": "code",
   "execution_count": 2,
   "id": "a4efbc6d-5c61-47d6-836a-dfdceb1799e9",
   "metadata": {},
   "outputs": [],
   "source": [
    "list1 = [0 if x>=20 else x for x in lst]"
   ]
  },
  {
   "cell_type": "code",
   "execution_count": 4,
   "id": "02cf0c31-cfc7-4c94-8d1a-14e1120844b8",
   "metadata": {},
   "outputs": [
    {
     "name": "stdout",
     "output_type": "stream",
     "text": [
      "[0, 18, 2, 0, 12, 0]\n"
     ]
    }
   ],
   "source": [
    "print(list1)"
   ]
  },
  {
   "cell_type": "code",
   "execution_count": null,
   "id": "f308abe2-dd3f-4895-ac21-f86f38819ed1",
   "metadata": {},
   "outputs": [],
   "source": []
  }
 ],
 "metadata": {
  "kernelspec": {
   "display_name": "Python 3 (ipykernel)",
   "language": "python",
   "name": "python3"
  },
  "language_info": {
   "codemirror_mode": {
    "name": "ipython",
    "version": 3
   },
   "file_extension": ".py",
   "mimetype": "text/x-python",
   "name": "python",
   "nbconvert_exporter": "python",
   "pygments_lexer": "ipython3",
   "version": "3.8.17"
  }
 },
 "nbformat": 4,
 "nbformat_minor": 5
}
