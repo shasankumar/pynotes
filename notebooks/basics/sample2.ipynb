{
 "cells": [
  {
   "cell_type": "code",
   "execution_count": 1,
   "id": "056eeee6-9016-4de7-a1a4-d664e9b91358",
   "metadata": {},
   "outputs": [
    {
     "name": "stdin",
     "output_type": "stream",
     "text": [
      "enter your marks: 10\n"
     ]
    },
    {
     "name": "stdout",
     "output_type": "stream",
     "text": [
      "fail\n"
     ]
    }
   ],
   "source": [
    "n=int(input(\"enter your marks:\"))\n",
    "if n>100:\n",
    "    print(\"no data\")\n",
    "elif n>=80:\n",
    "    print(\"grade is A and pass\")    \n",
    "elif n>=60:\n",
    "    print(\"grade is B and pass\")\n",
    "elif n>=35:\n",
    "    print(\"grade is c and pass\")\n",
    "else:\n",
    "    print(\"fail\") "
   ]
  },
  {
   "cell_type": "code",
   "execution_count": null,
   "id": "9b834d7e-b8d9-4527-95d3-948b47cba447",
   "metadata": {},
   "outputs": [],
   "source": []
  }
 ],
 "metadata": {
  "kernelspec": {
   "display_name": "Python 3 (ipykernel)",
   "language": "python",
   "name": "python3"
  },
  "language_info": {
   "codemirror_mode": {
    "name": "ipython",
    "version": 3
   },
   "file_extension": ".py",
   "mimetype": "text/x-python",
   "name": "python",
   "nbconvert_exporter": "python",
   "pygments_lexer": "ipython3",
   "version": "3.8.17"
  }
 },
 "nbformat": 4,
 "nbformat_minor": 5
}
